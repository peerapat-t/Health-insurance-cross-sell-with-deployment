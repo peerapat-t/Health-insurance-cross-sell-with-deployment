{
 "cells": [
  {
   "cell_type": "code",
   "execution_count": null,
   "metadata": {},
   "outputs": [],
   "source": [
    "import warnings\n",
    "warnings.simplefilter(\"ignore\")"
   ]
  },
  {
   "cell_type": "code",
   "execution_count": null,
   "metadata": {},
   "outputs": [],
   "source": [
    "import streamlit as st"
   ]
  },
  {
   "cell_type": "code",
   "execution_count": null,
   "metadata": {},
   "outputs": [],
   "source": [
    "import pandas as pd"
   ]
  },
  {
   "cell_type": "code",
   "execution_count": null,
   "metadata": {},
   "outputs": [],
   "source": [
    "import pickle"
   ]
  },
  {
   "cell_type": "markdown",
   "metadata": {},
   "source": [
    "# Import trained model"
   ]
  },
  {
   "cell_type": "code",
   "execution_count": null,
   "metadata": {},
   "outputs": [],
   "source": [
    "region_code_encoder = pickle.load(open('encoder model pickle/region_code_encoder.pickle', 'rb'))"
   ]
  },
  {
   "cell_type": "code",
   "execution_count": null,
   "metadata": {},
   "outputs": [],
   "source": [
    "vehicle_age_encoder = pickle.load(open('encoder model pickle/vehicle_age_encoder.pickle', 'rb'))"
   ]
  },
  {
   "cell_type": "code",
   "execution_count": null,
   "metadata": {},
   "outputs": [],
   "source": [
    "policy_sales_channel_encoder = pickle.load(open('encoder model pickle/policy_sales_channel_encoder.pickle', 'rb'))"
   ]
  },
  {
   "cell_type": "code",
   "execution_count": null,
   "metadata": {},
   "outputs": [],
   "source": [
    "logistic_rus = pickle.load(open('prediction model pickle/logistic_rus_prediction.pickle', 'rb'))"
   ]
  },
  {
   "cell_type": "markdown",
   "metadata": {},
   "source": [
    "# Create function"
   ]
  },
  {
   "cell_type": "code",
   "execution_count": null,
   "metadata": {},
   "outputs": [],
   "source": [
    "def convert_gender(df):\n",
    "    df['Gender'] = df['Gender'].apply(lambda x: 1 if x == 'Male' else 0)\n",
    "    return df"
   ]
  },
  {
   "cell_type": "code",
   "execution_count": null,
   "metadata": {},
   "outputs": [],
   "source": [
    "def convert_driving_license(df):\n",
    "    df['Driving_License'] = df['Driving_License'].apply(lambda x: 1 if x == 'Yes' else 0)\n",
    "    return df"
   ]
  },
  {
   "cell_type": "code",
   "execution_count": null,
   "metadata": {},
   "outputs": [],
   "source": [
    "def convert_previously_insured(df):\n",
    "    df['Previously_Insured'] = df['Previously_Insured'].apply(lambda x: 1 if x == 'Yes' else 0)\n",
    "    return df"
   ]
  },
  {
   "cell_type": "code",
   "execution_count": null,
   "metadata": {},
   "outputs": [],
   "source": [
    "def convert_vehicle_damage(df):\n",
    "    df['Vehicle_Damage'] = df['Vehicle_Damage'].apply(lambda x: 1 if x == 'Yes' else 0)\n",
    "    return df"
   ]
  },
  {
   "cell_type": "code",
   "execution_count": null,
   "metadata": {},
   "outputs": [],
   "source": [
    "def encode_region_code(df, encoder):\n",
    "    encoded = encoder.transform(df[['Region_Code']]).toarray()\n",
    "    encoded_df = pd.DataFrame(encoded, columns=encoder.get_feature_names_out(['Region_Code']))\n",
    "    df = df.join(encoded_df).drop('Region_Code', axis=1)\n",
    "    return df"
   ]
  },
  {
   "cell_type": "code",
   "execution_count": null,
   "metadata": {},
   "outputs": [],
   "source": [
    "def encode_vehicle_age(df, encoder):\n",
    "    encoded = encoder.transform(df[['Vehicle_Age']]).toarray()\n",
    "    encoded_df = pd.DataFrame(encoded, columns=encoder.get_feature_names_out(['Vehicle_Age']))\n",
    "    df = df.join(encoded_df).drop('Vehicle_Age', axis=1)\n",
    "    return df"
   ]
  },
  {
   "cell_type": "code",
   "execution_count": null,
   "metadata": {},
   "outputs": [],
   "source": [
    "def encode_policy_sales_channel(df, encoder):\n",
    "    encoded = encoder.transform(df[['Policy_Sales_Channel']]).toarray()\n",
    "    encoded_df = pd.DataFrame(encoded, columns=encoder.get_feature_names_out(['Policy_Sales_Channel']))\n",
    "    df = df.join(encoded_df).drop('Policy_Sales_Channel', axis=1)\n",
    "    return df"
   ]
  },
  {
   "cell_type": "markdown",
   "metadata": {},
   "source": [
    "# Prediction function"
   ]
  },
  {
   "cell_type": "code",
   "execution_count": null,
   "metadata": {},
   "outputs": [],
   "source": [
    "def prediction_model(df):\n",
    "\n",
    "    result = ''\n",
    "\n",
    "    df = convert_gender(df)\n",
    "    df = convert_driving_license(df)\n",
    "    df = convert_previously_insured(df)\n",
    "    df = convert_vehicle_damage(df)\n",
    "    df = encode_region_code(df, region_code_encoder)\n",
    "    df = encode_vehicle_age(df, vehicle_age_encoder)\n",
    "    df = encode_policy_sales_channel(df, policy_sales_channel_encoder)\n",
    "\n",
    "    df['predictions'] = logistic_rus.predict(df)\n",
    "\n",
    "    if df['predictions'][0] == 1:\n",
    "        result = 'Likely to buy'\n",
    "    else:\n",
    "        result = 'Not likely to buy'\n",
    "\n",
    "    return result"
   ]
  },
  {
   "cell_type": "code",
   "execution_count": null,
   "metadata": {},
   "outputs": [],
   "source": [
    "def main():\n",
    "    st.title('Car insurance selling signal')\n",
    "\n",
    "    sex_list = ['Male', 'Female']\n",
    "    driving_license_list = ['Yes','No']\n",
    "    region_code_list = ['0','1','2','3','4','5','6','7','8','9','10','11','12','13','14','15','16','17','18','19',\n",
    "                        '20','21','22','23','24','25','26','27','28','29','30','31','32','33','34','35','36','37',\n",
    "                        '38','39','40','41','42','43','44','45','46','47','48','49','50','51','52']\n",
    "    previously_insured_list = ['Yes','No']\n",
    "    vehicle_age_list = ['> 2 Years', '1-2 Year', '< 1 Year']\n",
    "    vehicle_damage_list = ['Yes','No']\n",
    "    policy_sales_channel_list = ['1','2','3','4','6','7','8','9','10','11','12','13','14','15','16','17','18','19',\n",
    "                                 '20','21','22','23','24','25','26','27','28','29','30','31','32','33','34','35',\n",
    "                                 '36','37','38','39','40','41','42','43','44','45','46','47','48','49','50','51','52',\n",
    "                                 '53','54','55','56','57','58','59','60','61','62','63','64','65','66','67','68','69',\n",
    "                                 '70','71','73','74','75','76','78','79','80','81','82','83','84','86','87','88','89',\n",
    "                                 '90','91','92','93','94','95','96','97','98','99','100','101','102','103','104','105',\n",
    "                                 '106','107','108','109','110','111','112','113','114','115','116','117','118','119',\n",
    "                                 '120','121','122','123','124','125','126','127','128','129','130','131','132','133',\n",
    "                                 '134','135','136','137','138','139','140','143','144','145','146','147','148','149',\n",
    "                                 '150','151','152','153','154','155','156','157','158','159','160','163']\n",
    "    \n",
    "    sex_option = st.selectbox(\"Customer sex:\", sex_list, key='sex_option')\n",
    "    age_option = st.slider('Customer age:', min_value=0, max_value=100, value=25, step=1, key='age_option')\n",
    "    driving_license_option = st.selectbox(\"Customer driving license status:\", driving_license_list, key='driving_license_option')\n",
    "    region_code_option = st.selectbox(\"Customer region code:\", region_code_list, key='region_code_option')\n",
    "    previously_insured_option = st.selectbox(\"Customer previously insured:\", previously_insured_list, key='previously_insured_option')\n",
    "    vehicle_age_option = st.selectbox(\"Customer vehicle age:\", vehicle_age_list, key='vehicle_age_option')\n",
    "    vehicle_damage_option = st.selectbox(\"Customer vehicle damage:\", vehicle_damage_list, key='vehicle_damage_option')\n",
    "    annual_premium_option = st.number_input('Customer annual premium:', min_value=0, value=0)\n",
    "    policy_sales_channel_option = st.selectbox(\"Customer policy sales channel:\", policy_sales_channel_list, key='policy_sales_channel_option')\n",
    "    vintage_option = st.slider('Customer vintage:', min_value=0, max_value=500, value=100, step=1, key='vintage_option')\n",
    "    \n",
    "    df_prediction = pd.DataFrame({\n",
    "        'Gender': [sex_option],\n",
    "        'Age': [age_option],\n",
    "        'Driving_License': [driving_license_option],\n",
    "        'Region_Code': [region_code_option],\n",
    "        'Previously_Insured': [previously_insured_option],\n",
    "        'Vehicle_Age': [vehicle_age_option],\n",
    "        'Vehicle_Damage': [vehicle_damage_option],\n",
    "        'Annual_Premium': [annual_premium_option],\n",
    "        'Policy_Sales_Channel': [policy_sales_channel_option],\n",
    "        'Vintage': [vintage_option]\n",
    "        })\n",
    "    \n",
    "    prediction_result = ''\n",
    "\n",
    "    if st.button('Predict'):\n",
    "        prediction_result = prediction_model(df_prediction)\n",
    "    st.success(f'Prediction Result: {prediction_result}')"
   ]
  },
  {
   "cell_type": "code",
   "execution_count": null,
   "metadata": {},
   "outputs": [],
   "source": [
    "if __name__ == '__main__':\n",
    "    main()"
   ]
  }
 ],
 "metadata": {
  "kernelspec": {
   "display_name": "base",
   "language": "python",
   "name": "python3"
  },
  "language_info": {
   "codemirror_mode": {
    "name": "ipython",
    "version": 3
   },
   "file_extension": ".py",
   "mimetype": "text/x-python",
   "name": "python",
   "nbconvert_exporter": "python",
   "pygments_lexer": "ipython3",
   "version": "3.11.7"
  }
 },
 "nbformat": 4,
 "nbformat_minor": 2
}
